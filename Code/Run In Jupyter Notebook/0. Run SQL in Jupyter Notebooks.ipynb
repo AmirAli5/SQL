{
 "cells": [
  {
   "cell_type": "markdown",
   "id": "4cf0ea14",
   "metadata": {},
   "source": [
    "### Import Libraries"
   ]
  },
  {
   "cell_type": "code",
   "execution_count": 4,
   "id": "615be87f",
   "metadata": {},
   "outputs": [],
   "source": [
    "import pandas as pd\n",
    "import sqlite3"
   ]
  },
  {
   "cell_type": "markdown",
   "id": "c1514f0a",
   "metadata": {},
   "source": [
    "#### Create DataFrame"
   ]
  },
  {
   "cell_type": "code",
   "execution_count": 7,
   "id": "e36f60db",
   "metadata": {},
   "outputs": [
    {
     "data": {
      "text/html": [
       "<div>\n",
       "<style scoped>\n",
       "    .dataframe tbody tr th:only-of-type {\n",
       "        vertical-align: middle;\n",
       "    }\n",
       "\n",
       "    .dataframe tbody tr th {\n",
       "        vertical-align: top;\n",
       "    }\n",
       "\n",
       "    .dataframe thead th {\n",
       "        text-align: right;\n",
       "    }\n",
       "</style>\n",
       "<table border=\"1\" class=\"dataframe\">\n",
       "  <thead>\n",
       "    <tr style=\"text-align: right;\">\n",
       "      <th></th>\n",
       "      <th>Name</th>\n",
       "      <th>Age</th>\n",
       "      <th>Gender</th>\n",
       "      <th>Domain</th>\n",
       "      <th>Salary</th>\n",
       "    </tr>\n",
       "  </thead>\n",
       "  <tbody>\n",
       "    <tr>\n",
       "      <th>0</th>\n",
       "      <td>Amir</td>\n",
       "      <td>23</td>\n",
       "      <td>Male</td>\n",
       "      <td>Data Scientist</td>\n",
       "      <td>7000</td>\n",
       "    </tr>\n",
       "    <tr>\n",
       "      <th>1</th>\n",
       "      <td>Kalina</td>\n",
       "      <td>22</td>\n",
       "      <td>Female</td>\n",
       "      <td>Data Anysis</td>\n",
       "      <td>7300</td>\n",
       "    </tr>\n",
       "    <tr>\n",
       "      <th>2</th>\n",
       "      <td>Szymon</td>\n",
       "      <td>23</td>\n",
       "      <td>Male</td>\n",
       "      <td>Cloud Engineer</td>\n",
       "      <td>8300</td>\n",
       "    </tr>\n",
       "    <tr>\n",
       "      <th>3</th>\n",
       "      <td>Ola</td>\n",
       "      <td>21</td>\n",
       "      <td>Female</td>\n",
       "      <td>Mathematician</td>\n",
       "      <td>7100</td>\n",
       "    </tr>\n",
       "    <tr>\n",
       "      <th>4</th>\n",
       "      <td>Stanislaw</td>\n",
       "      <td>24</td>\n",
       "      <td>Male</td>\n",
       "      <td>Developer</td>\n",
       "      <td>8000</td>\n",
       "    </tr>\n",
       "    <tr>\n",
       "      <th>5</th>\n",
       "      <td>Krystian</td>\n",
       "      <td>25</td>\n",
       "      <td>Male</td>\n",
       "      <td>Programmaer</td>\n",
       "      <td>9400</td>\n",
       "    </tr>\n",
       "    <tr>\n",
       "      <th>6</th>\n",
       "      <td>Mathew</td>\n",
       "      <td>26</td>\n",
       "      <td>Male</td>\n",
       "      <td>Data Engineer</td>\n",
       "      <td>8200</td>\n",
       "    </tr>\n",
       "  </tbody>\n",
       "</table>\n",
       "</div>"
      ],
      "text/plain": [
       "        Name  Age  Gender          Domain  Salary\n",
       "0       Amir   23    Male  Data Scientist    7000\n",
       "1     Kalina   22  Female     Data Anysis    7300\n",
       "2     Szymon   23    Male  Cloud Engineer    8300\n",
       "3        Ola   21  Female   Mathematician    7100\n",
       "4  Stanislaw   24    Male       Developer    8000\n",
       "5   Krystian   25    Male     Programmaer    9400\n",
       "6     Mathew   26    Male   Data Engineer    8200"
      ]
     },
     "execution_count": 7,
     "metadata": {},
     "output_type": "execute_result"
    }
   ],
   "source": [
    "df = pd.DataFrame({'Name' : ['Amir', 'Kalina', 'Szymon', 'Ola', 'Stanislaw', 'Krystian', 'Mathew'],\n",
    "                   'Age' : [23, 22, 23, 21, 24, 25, 26],\n",
    "                   'Gender': ['Male', 'Female', 'Male', 'Female', 'Male', 'Male', 'Male'],\n",
    "                   'Domain': ['Data Scientist', 'Data Anysis', 'Cloud Engineer', 'Mathematician', 'Developer', \n",
    "                                                                               'Programmaer', 'Data Engineer'],\n",
    "                   'Salary': [7000, 7300, 8300, 7100, 8000, 9400, 8200] })\n",
    "df"
   ]
  },
  {
   "cell_type": "markdown",
   "id": "8695f9ca",
   "metadata": {},
   "source": [
    "#### Create a Create Connection"
   ]
  },
  {
   "cell_type": "code",
   "execution_count": 8,
   "id": "e032727d",
   "metadata": {},
   "outputs": [],
   "source": [
    "cnn = sqlite3.connect('learn_sql.db')  # connection command create a database"
   ]
  },
  {
   "cell_type": "markdown",
   "id": "0aafe971",
   "metadata": {},
   "source": [
    "#### Add Data to Database"
   ]
  },
  {
   "cell_type": "code",
   "execution_count": 9,
   "id": "67810636",
   "metadata": {},
   "outputs": [],
   "source": [
    "df.to_sql('Employee', cnn)"
   ]
  },
  {
   "cell_type": "markdown",
   "id": "1c8cc18a",
   "metadata": {},
   "source": [
    "#### Load the SQL module to Ipython"
   ]
  },
  {
   "cell_type": "code",
   "execution_count": 17,
   "id": "55e00ea6",
   "metadata": {},
   "outputs": [],
   "source": [
    "%load_ext sql\n",
    "%sql sqlite:///learn_sql.db"
   ]
  },
  {
   "cell_type": "markdown",
   "id": "b41d84d8",
   "metadata": {},
   "source": [
    "#### Now We Can Run SQL Quieries"
   ]
  },
  {
   "cell_type": "code",
   "execution_count": 16,
   "id": "d82101f7",
   "metadata": {},
   "outputs": [
    {
     "name": "stdout",
     "output_type": "stream",
     "text": [
      " * sqlite:///learn_sql.db\n",
      "Done.\n"
     ]
    },
    {
     "data": {
      "text/html": [
       "<table>\n",
       "    <tr>\n",
       "        <th>index</th>\n",
       "        <th>Name</th>\n",
       "        <th>Age</th>\n",
       "        <th>Gender</th>\n",
       "        <th>Domain</th>\n",
       "        <th>Salary</th>\n",
       "    </tr>\n",
       "    <tr>\n",
       "        <td>0</td>\n",
       "        <td>Amir</td>\n",
       "        <td>23</td>\n",
       "        <td>Male</td>\n",
       "        <td>Data Scientist</td>\n",
       "        <td>7000</td>\n",
       "    </tr>\n",
       "    <tr>\n",
       "        <td>1</td>\n",
       "        <td>Kalina</td>\n",
       "        <td>22</td>\n",
       "        <td>Female</td>\n",
       "        <td>Data Anysis</td>\n",
       "        <td>7300</td>\n",
       "    </tr>\n",
       "    <tr>\n",
       "        <td>2</td>\n",
       "        <td>Szymon</td>\n",
       "        <td>23</td>\n",
       "        <td>Male</td>\n",
       "        <td>Cloud Engineer</td>\n",
       "        <td>8300</td>\n",
       "    </tr>\n",
       "    <tr>\n",
       "        <td>3</td>\n",
       "        <td>Ola</td>\n",
       "        <td>21</td>\n",
       "        <td>Female</td>\n",
       "        <td>Mathematician</td>\n",
       "        <td>7100</td>\n",
       "    </tr>\n",
       "    <tr>\n",
       "        <td>4</td>\n",
       "        <td>Stanislaw</td>\n",
       "        <td>24</td>\n",
       "        <td>Male</td>\n",
       "        <td>Developer</td>\n",
       "        <td>8000</td>\n",
       "    </tr>\n",
       "    <tr>\n",
       "        <td>5</td>\n",
       "        <td>Krystian</td>\n",
       "        <td>25</td>\n",
       "        <td>Male</td>\n",
       "        <td>Programmaer</td>\n",
       "        <td>9400</td>\n",
       "    </tr>\n",
       "    <tr>\n",
       "        <td>6</td>\n",
       "        <td>Mathew</td>\n",
       "        <td>26</td>\n",
       "        <td>Male</td>\n",
       "        <td>Data Engineer</td>\n",
       "        <td>8200</td>\n",
       "    </tr>\n",
       "</table>"
      ],
      "text/plain": [
       "[(0, 'Amir', 23, 'Male', 'Data Scientist', 7000),\n",
       " (1, 'Kalina', 22, 'Female', 'Data Anysis', 7300),\n",
       " (2, 'Szymon', 23, 'Male', 'Cloud Engineer', 8300),\n",
       " (3, 'Ola', 21, 'Female', 'Mathematician', 7100),\n",
       " (4, 'Stanislaw', 24, 'Male', 'Developer', 8000),\n",
       " (5, 'Krystian', 25, 'Male', 'Programmaer', 9400),\n",
       " (6, 'Mathew', 26, 'Male', 'Data Engineer', 8200)]"
      ]
     },
     "execution_count": 16,
     "metadata": {},
     "output_type": "execute_result"
    }
   ],
   "source": [
    "%%sql\n",
    "\n",
    "select * from employee;"
   ]
  }
 ],
 "metadata": {
  "kernelspec": {
   "display_name": "Python 3 (ipykernel)",
   "language": "python",
   "name": "python3"
  },
  "language_info": {
   "codemirror_mode": {
    "name": "ipython",
    "version": 3
   },
   "file_extension": ".py",
   "mimetype": "text/x-python",
   "name": "python",
   "nbconvert_exporter": "python",
   "pygments_lexer": "ipython3",
   "version": "3.9.7"
  }
 },
 "nbformat": 4,
 "nbformat_minor": 5
}
