{
 "cells": [
  {
   "cell_type": "code",
   "execution_count": 1,
   "id": "180681fd",
   "metadata": {},
   "outputs": [],
   "source": [
    "%load_ext sql\n",
    "%sql sqlite:///Database/learn_sql.db"
   ]
  },
  {
   "cell_type": "code",
   "execution_count": 2,
   "id": "ff2f1441",
   "metadata": {},
   "outputs": [
    {
     "name": "stdout",
     "output_type": "stream",
     "text": [
      " * sqlite:///Database/learn_sql.db\n",
      "Done.\n"
     ]
    },
    {
     "data": {
      "text/html": [
       "<table>\n",
       "    <tr>\n",
       "        <th>index</th>\n",
       "        <th>Name</th>\n",
       "        <th>Age</th>\n",
       "        <th>Gender</th>\n",
       "        <th>Domain</th>\n",
       "        <th>Salary</th>\n",
       "    </tr>\n",
       "    <tr>\n",
       "        <td>0</td>\n",
       "        <td>Amir</td>\n",
       "        <td>23</td>\n",
       "        <td>Male</td>\n",
       "        <td>Data Scientist</td>\n",
       "        <td>7000</td>\n",
       "    </tr>\n",
       "    <tr>\n",
       "        <td>1</td>\n",
       "        <td>Kalina</td>\n",
       "        <td>22</td>\n",
       "        <td>Female</td>\n",
       "        <td>Data Anysis</td>\n",
       "        <td>7300</td>\n",
       "    </tr>\n",
       "    <tr>\n",
       "        <td>2</td>\n",
       "        <td>Szymon</td>\n",
       "        <td>23</td>\n",
       "        <td>Male</td>\n",
       "        <td>Cloud Engineer</td>\n",
       "        <td>8300</td>\n",
       "    </tr>\n",
       "    <tr>\n",
       "        <td>3</td>\n",
       "        <td>Ola</td>\n",
       "        <td>21</td>\n",
       "        <td>Female</td>\n",
       "        <td>Mathematician</td>\n",
       "        <td>7100</td>\n",
       "    </tr>\n",
       "    <tr>\n",
       "        <td>4</td>\n",
       "        <td>Stanislaw</td>\n",
       "        <td>24</td>\n",
       "        <td>Male</td>\n",
       "        <td>Developer</td>\n",
       "        <td>8000</td>\n",
       "    </tr>\n",
       "    <tr>\n",
       "        <td>5</td>\n",
       "        <td>Krystian</td>\n",
       "        <td>25</td>\n",
       "        <td>Male</td>\n",
       "        <td>Programmaer</td>\n",
       "        <td>9400</td>\n",
       "    </tr>\n",
       "    <tr>\n",
       "        <td>6</td>\n",
       "        <td>Mathew</td>\n",
       "        <td>26</td>\n",
       "        <td>Male</td>\n",
       "        <td>Data Engineer</td>\n",
       "        <td>8200</td>\n",
       "    </tr>\n",
       "</table>"
      ],
      "text/plain": [
       "[(0, 'Amir', 23, 'Male', 'Data Scientist', 7000),\n",
       " (1, 'Kalina', 22, 'Female', 'Data Anysis', 7300),\n",
       " (2, 'Szymon', 23, 'Male', 'Cloud Engineer', 8300),\n",
       " (3, 'Ola', 21, 'Female', 'Mathematician', 7100),\n",
       " (4, 'Stanislaw', 24, 'Male', 'Developer', 8000),\n",
       " (5, 'Krystian', 25, 'Male', 'Programmaer', 9400),\n",
       " (6, 'Mathew', 26, 'Male', 'Data Engineer', 8200)]"
      ]
     },
     "execution_count": 2,
     "metadata": {},
     "output_type": "execute_result"
    }
   ],
   "source": [
    "%%sql\n",
    "\n",
    "select * from employee"
   ]
  }
 ],
 "metadata": {
  "kernelspec": {
   "display_name": "Python 3 (ipykernel)",
   "language": "python",
   "name": "python3"
  },
  "language_info": {
   "codemirror_mode": {
    "name": "ipython",
    "version": 3
   },
   "file_extension": ".py",
   "mimetype": "text/x-python",
   "name": "python",
   "nbconvert_exporter": "python",
   "pygments_lexer": "ipython3",
   "version": "3.9.7"
  }
 },
 "nbformat": 4,
 "nbformat_minor": 5
}
